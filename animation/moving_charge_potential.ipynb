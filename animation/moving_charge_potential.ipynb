{
 "cells": [
  {
   "cell_type": "code",
   "execution_count": null,
   "metadata": {},
   "outputs": [],
   "source": [
    "from plotly import tools\n",
    "import plotly.plotly as py\n",
    "import plotly.graph_objs as go\n",
    "import numpy as np\n",
    "from plotly import __version__\n",
    "from plotly.offline import download_plotlyjs, init_notebook_mode, plot, iplot\n",
    "config={'showLink': False, 'displayModeBar': False}\n",
    "\n",
    "init_notebook_mode(connected=True)"
   ]
  },
  {
   "cell_type": "code",
   "execution_count": null,
   "metadata": {},
   "outputs": [],
   "source": [
    "from electropy.charge import Charge\n",
    "from electropy.volume import *\n",
    "\n",
    "charge_val = 1e-7\n",
    "position = 5\n",
    "volume_dim = 10\n",
    "z_plane = 0\n",
    "h = 0.1\n",
    "\n",
    "xi = np.arange(-volume_dim, volume_dim + h, h)\n",
    "yi = np.arange(-volume_dim, volume_dim + h, h)\n",
    "\n",
    "time = np.linspace(0,21,21)\n",
    "zt = np.empty([xi.size,yi.size,time.size])\n",
    "\n",
    "for dt in range(time.size):\n",
    "    charges = [Charge([-10+time[dt]*2*10/21, 0, 0], -charge_val/4)]\n",
    "    \n",
    "    charges.append(Charge([0, +position, 0], +charge_val))\n",
    "    charges.append(Charge([0, -position, 0], +charge_val))\n",
    "\n",
    "    zi = potential(charges, z_range=[z_plane, z_plane], h = h)\n",
    "\n",
    "    zi=np.nan_to_num(zi)\n",
    "    \n",
    "    zt[:,:,dt] = np.squeeze(zi);"
   ]
  },
  {
   "cell_type": "code",
   "execution_count": null,
   "metadata": {},
   "outputs": [],
   "source": [
    "layout = go.Layout(\n",
    "    width=700,\n",
    "    height=700,\n",
    ")\n",
    "\n",
    "data = [go.Contour(\n",
    "            x=xi,\n",
    "            y=yi,\n",
    "            z=zt[:,:,0],\n",
    "            ncontours=100,\n",
    "            colorscale='RdBu',\n",
    "            line=dict(smoothing=0.85),\n",
    "            zmin=-600,\n",
    "            zmax=600,)]\n",
    "\n",
    "frames=[dict(data = [go.Contour(\n",
    "            x=xi,\n",
    "            y=yi,\n",
    "            z=zt[:,:,dt],\n",
    "            ncontours=100,\n",
    "            colorscale='RdBu',\n",
    "            line=dict(smoothing=0.85),\n",
    "            zmin=-600,\n",
    "            zmax=600,)\n",
    "            ]) for dt in range(time.size)]\n",
    "\n",
    "fig = dict(data=data, layout=layout, frames=frames)\n",
    "\n",
    "iplot(fig)"
   ]
  },
  {
   "cell_type": "code",
   "execution_count": null,
   "metadata": {},
   "outputs": [],
   "source": []
  }
 ],
 "metadata": {
  "kernelspec": {
   "display_name": "Python 3",
   "language": "python",
   "name": "python3"
  },
  "language_info": {
   "codemirror_mode": {
    "name": "ipython",
    "version": 3
   },
   "file_extension": ".py",
   "mimetype": "text/x-python",
   "name": "python",
   "nbconvert_exporter": "python",
   "pygments_lexer": "ipython3",
   "version": "3.6.5"
  }
 },
 "nbformat": 4,
 "nbformat_minor": 2
}
