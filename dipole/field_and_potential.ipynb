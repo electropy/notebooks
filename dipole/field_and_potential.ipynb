{
 "cells": [
  {
   "cell_type": "code",
   "execution_count": null,
   "metadata": {},
   "outputs": [],
   "source": [
    "from plotly import tools\n",
    "import plotly.plotly as py\n",
    "import plotly.graph_objs as go\n",
    "import numpy as np\n",
    "from plotly import __version__\n",
    "from plotly.offline import download_plotlyjs, init_notebook_mode, plot, iplot\n",
    "import plotly.figure_factory as ff\n",
    "config={'showLink': False, 'displayModeBar': False}\n",
    "\n",
    "init_notebook_mode(connected=True)\n",
    "\n",
    "from electropy.charge import Charge\n",
    "from electropy.volume import *"
   ]
  },
  {
   "cell_type": "code",
   "execution_count": null,
   "metadata": {},
   "outputs": [],
   "source": [
    "# Calculate electric field\n",
    "\n",
    "charge_val = 1e-7\n",
    "position = 5\n",
    "volume_dim = 10\n",
    "z_plane = 0\n",
    "field_scaling = 20\n",
    "field_threshold = 15\n",
    "\n",
    "charges = [Charge([0, -position, 0], -charge_val)]\n",
    "charges.append(Charge([0, +position, 0], +charge_val))\n",
    "h = 1\n",
    "\n",
    "x, y = np.meshgrid(\n",
    "    np.arange(-volume_dim, volume_dim + h, h),\n",
    "    np.arange(-volume_dim, volume_dim + h, h)\n",
    ")\n",
    "\n",
    "# These two are \"switched\", not sure why numpy needs this. Needs clarification.\n",
    "u = np.squeeze(field(charges, z_range=[z_plane, z_plane], h = h, type=\"potential\", component='y'))\n",
    "v = np.squeeze(field(charges, z_range=[z_plane, z_plane], h = h, type=\"potential\", component='x'))\n",
    "\n",
    "# Scaling and thresholding the field so that the arrows fit nicely in the plot\n",
    "u=u/field_scaling\n",
    "v=v/field_scaling\n",
    "threshold = field_threshold\n",
    "\n",
    "nan_mask = np.isnan(u) + np.isnan(v)\n",
    "v[nan_mask] = 0\n",
    "u[nan_mask] = 0\n",
    "\n",
    "mask = (u**2+v**2)>threshold\n",
    "\n",
    "v[mask] = 0\n",
    "u[mask] = 0"
   ]
  },
  {
   "cell_type": "code",
   "execution_count": null,
   "metadata": {},
   "outputs": [],
   "source": [
    "# Initialize plotly plot for electric field\n",
    "\n",
    "\n",
    "quiver_data = ff.create_quiver(x, y, u, v,\n",
    "                       scale=.25,\n",
    "                       arrow_scale=0.3,\n",
    "                       name='Electric field',\n",
    "                       line=dict(width=1,\n",
    "                                color = 'black'))\n",
    "\n",
    "trace1=quiver_data.data[0]"
   ]
  },
  {
   "cell_type": "code",
   "execution_count": null,
   "metadata": {},
   "outputs": [],
   "source": [
    "# Calculate potential\n",
    "\n",
    "charge_val = 1e-7\n",
    "position = 5\n",
    "volume_dim = 10\n",
    "z_plane = 0\n",
    "\n",
    "charges = [Charge([0, -position, 0], -charge_val)]\n",
    "charges.append(Charge([0, +position, 0], +charge_val))\n",
    "h = 0.1\n",
    "\n",
    "xi = np.arange(-volume_dim, volume_dim + h, h)\n",
    "yi = np.arange(-volume_dim, volume_dim + h, h)\n",
    "zi = potential(charges, z_range=[z_plane, z_plane], h = h)\n",
    "zi=np.nan_to_num(zi)"
   ]
  },
  {
   "cell_type": "code",
   "execution_count": null,
   "metadata": {},
   "outputs": [],
   "source": [
    "# Initialize plotly plot for potential\n",
    "\n",
    "trace2 = go.Contour(\n",
    "    x=xi,\n",
    "    y=yi,\n",
    "    z=np.squeeze(zi),\n",
    "    ncontours=100,\n",
    "    colorscale='RdBu',\n",
    "    line=dict(smoothing=0.85),\n",
    "    zmin=-600,\n",
    "    zmax=600,\n",
    ")"
   ]
  },
  {
   "cell_type": "code",
   "execution_count": null,
   "metadata": {},
   "outputs": [],
   "source": [
    "# Plot superposition of figures\n",
    "\n",
    "data = [trace1, trace2]\n",
    "\n",
    "layout = go.Layout(\n",
    "    width=700,\n",
    "    height=700,\n",
    "    xaxis=dict(\n",
    "        showgrid=False,\n",
    "        zeroline=False,\n",
    "        showline=False,\n",
    "        ticks='',\n",
    "        showticklabels=False\n",
    "    ),\n",
    "    yaxis=dict(\n",
    "        showgrid=False,\n",
    "        zeroline=False,\n",
    "        showline=False,\n",
    "        ticks='',\n",
    "        showticklabels=False\n",
    "    )\n",
    ")\n",
    "\n",
    "fig = dict(data=data, layout=layout)\n",
    "\n",
    "iplot(fig)"
   ]
  },
  {
   "cell_type": "code",
   "execution_count": null,
   "metadata": {},
   "outputs": [],
   "source": []
  }
 ],
 "metadata": {
  "kernelspec": {
   "display_name": "Python 3",
   "language": "python",
   "name": "python3"
  },
  "language_info": {
   "codemirror_mode": {
    "name": "ipython",
    "version": 3
   },
   "file_extension": ".py",
   "mimetype": "text/x-python",
   "name": "python",
   "nbconvert_exporter": "python",
   "pygments_lexer": "ipython3",
   "version": "3.6.5"
  }
 },
 "nbformat": 4,
 "nbformat_minor": 2
}
